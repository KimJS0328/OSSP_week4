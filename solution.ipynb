{
  "nbformat": 4,
  "nbformat_minor": 0,
  "metadata": {
    "colab": {
      "provenance": []
    },
    "kernelspec": {
      "name": "python3",
      "display_name": "Python 3"
    },
    "language_info": {
      "name": "python"
    }
  },
  "cells": [
    {
      "cell_type": "markdown",
      "source": [
        "## Task \n",
        "- Complete **rotateString** function following the description below\n",
        "\n",
        "### Rotate String\n",
        "Given two strings **s** and **goal**, return **true** *if and only if* **s** can become **goal** after some number of shifts on **s**.\n",
        "\n",
        "A shift on **s** consists of moving the leftmost character of **s** to the rightmost position.\n",
        "\n",
        "- For example, if **s = \"abcde\"**, then it will be **\"bcdea\"** after one shift."
      ],
      "metadata": {
        "id": "TV3Socqg8BVl"
      }
    },
    {
      "cell_type": "code",
      "execution_count": 1,
      "metadata": {
        "id": "5FcxitVf5kdQ"
      },
      "outputs": [],
      "source": [
        "def rotateString(s, goal):\n",
        "  s = s + s\n",
        "  return goal in s"
      ]
    },
    {
      "cell_type": "code",
      "source": [
        "'''\n",
        "Testcase 1. \n",
        "Input: s = \"abcde\", goal = \"cdeab\"\n",
        "Output: True\n",
        "'''\n",
        "rotateString(\"abcde\", \"cdeab\")"
      ],
      "metadata": {
        "id": "iGtv8pRU59yu",
        "colab": {
          "base_uri": "https://localhost:8080/"
        },
        "outputId": "83a4453b-dd67-4afb-af6a-a5459faaa510"
      },
      "execution_count": 2,
      "outputs": [
        {
          "output_type": "execute_result",
          "data": {
            "text/plain": [
              "True"
            ]
          },
          "metadata": {},
          "execution_count": 2
        }
      ]
    },
    {
      "cell_type": "code",
      "source": [
        "'''\n",
        "Testcase 2. \n",
        "Input: s = \"abcde\", goal = \"abced\"\n",
        "Output: False\n",
        "'''\n",
        "rotateString(\"abcde\", \"abced\")"
      ],
      "metadata": {
        "id": "c_igv9cg6Jb0",
        "colab": {
          "base_uri": "https://localhost:8080/"
        },
        "outputId": "9d74c8ed-f786-4472-ac13-e677982c745b"
      },
      "execution_count": 3,
      "outputs": [
        {
          "output_type": "execute_result",
          "data": {
            "text/plain": [
              "False"
            ]
          },
          "metadata": {},
          "execution_count": 3
        }
      ]
    },
    {
      "cell_type": "code",
      "source": [
        "'''\n",
        "Testcase 3. \n",
        "Input: s = \"abcde\", goal = \"abcde\"\n",
        "Output: True\n",
        "'''\n",
        "rotateString(\"abcde\", \"abcde\")"
      ],
      "metadata": {
        "id": "gzATcpEZ6P67",
        "colab": {
          "base_uri": "https://localhost:8080/"
        },
        "outputId": "04cd1978-19d2-43d3-aa20-cc434d569b14"
      },
      "execution_count": 4,
      "outputs": [
        {
          "output_type": "execute_result",
          "data": {
            "text/plain": [
              "True"
            ]
          },
          "metadata": {},
          "execution_count": 4
        }
      ]
    }
  ]
}